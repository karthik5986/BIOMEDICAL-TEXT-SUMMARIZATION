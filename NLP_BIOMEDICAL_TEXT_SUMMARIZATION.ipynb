{
  "nbformat": 4,
  "nbformat_minor": 0,
  "metadata": {
    "colab": {
      "provenance": []
    },
    "kernelspec": {
      "name": "python3",
      "display_name": "Python 3"
    },
    "language_info": {
      "name": "python"
    }
  },
  "cells": [
    {
      "cell_type": "code",
      "execution_count": null,
      "metadata": {
        "colab": {
          "base_uri": "https://localhost:8080/"
        },
        "id": "IHbr7jUTqYEC",
        "outputId": "54630922-8773-445a-b43d-7999b2081b22"
      },
      "outputs": [
        {
          "output_type": "stream",
          "name": "stdout",
          "text": [
            "Requirement already satisfied: beautifulsoup4 in /usr/local/lib/python3.10/dist-packages (4.12.3)\n",
            "Requirement already satisfied: soupsieve>1.2 in /usr/local/lib/python3.10/dist-packages (from beautifulsoup4) (2.5)\n"
          ]
        }
      ],
      "source": [
        "pip install beautifulsoup4"
      ]
    },
    {
      "cell_type": "code",
      "source": [
        " pip install lxml"
      ],
      "metadata": {
        "colab": {
          "base_uri": "https://localhost:8080/"
        },
        "id": "FLeeX83Sql7k",
        "outputId": "888651d8-2f0f-4d42-84c6-5d6b41906f89"
      },
      "execution_count": null,
      "outputs": [
        {
          "output_type": "stream",
          "name": "stdout",
          "text": [
            "Requirement already satisfied: lxml in /usr/local/lib/python3.10/dist-packages (4.9.4)\n"
          ]
        }
      ]
    },
    {
      "cell_type": "code",
      "source": [
        "!pip install rouge\n"
      ],
      "metadata": {
        "colab": {
          "base_uri": "https://localhost:8080/"
        },
        "id": "9rPMH49NyUbr",
        "outputId": "1a3a930c-df3f-44c6-ab19-623cea000eca"
      },
      "execution_count": null,
      "outputs": [
        {
          "output_type": "stream",
          "name": "stdout",
          "text": [
            "Collecting rouge\n",
            "  Downloading rouge-1.0.1-py3-none-any.whl (13 kB)\n",
            "Requirement already satisfied: six in /usr/local/lib/python3.10/dist-packages (from rouge) (1.16.0)\n",
            "Installing collected packages: rouge\n",
            "Successfully installed rouge-1.0.1\n"
          ]
        }
      ]
    },
    {
      "cell_type": "code",
      "source": [
        "import nltk\n",
        "nltk.download('stopwords')"
      ],
      "metadata": {
        "id": "4-AAvkSOwMd6",
        "colab": {
          "base_uri": "https://localhost:8080/"
        },
        "outputId": "839227cd-bee2-48e2-c2dd-30b28884f420"
      },
      "execution_count": null,
      "outputs": [
        {
          "output_type": "stream",
          "name": "stderr",
          "text": [
            "[nltk_data] Downloading package stopwords to /root/nltk_data...\n",
            "[nltk_data]   Unzipping corpora/stopwords.zip.\n"
          ]
        },
        {
          "output_type": "execute_result",
          "data": {
            "text/plain": [
              "True"
            ]
          },
          "metadata": {},
          "execution_count": 5
        }
      ]
    },
    {
      "cell_type": "code",
      "source": [
        "!pip install googletrans==4.0.0-rc1"
      ],
      "metadata": {
        "id": "ouU9vsNewvTz",
        "colab": {
          "base_uri": "https://localhost:8080/"
        },
        "outputId": "c3f70881-47ab-43b1-b48b-b26673b93c3c"
      },
      "execution_count": null,
      "outputs": [
        {
          "output_type": "stream",
          "name": "stdout",
          "text": [
            "Collecting googletrans==4.0.0-rc1\n",
            "  Downloading googletrans-4.0.0rc1.tar.gz (20 kB)\n",
            "  Preparing metadata (setup.py) ... \u001b[?25l\u001b[?25hdone\n",
            "Collecting httpx==0.13.3 (from googletrans==4.0.0-rc1)\n",
            "  Downloading httpx-0.13.3-py3-none-any.whl (55 kB)\n",
            "\u001b[2K     \u001b[90m━━━━━━━━━━━━━━━━━━━━━━━━━━━━━━━━━━━━━━━━\u001b[0m \u001b[32m55.1/55.1 kB\u001b[0m \u001b[31m2.1 MB/s\u001b[0m eta \u001b[36m0:00:00\u001b[0m\n",
            "\u001b[?25hRequirement already satisfied: certifi in /usr/local/lib/python3.10/dist-packages (from httpx==0.13.3->googletrans==4.0.0-rc1) (2024.2.2)\n",
            "Collecting hstspreload (from httpx==0.13.3->googletrans==4.0.0-rc1)\n",
            "  Downloading hstspreload-2024.2.1-py3-none-any.whl (1.1 MB)\n",
            "\u001b[2K     \u001b[90m━━━━━━━━━━━━━━━━━━━━━━━━━━━━━━━━━━━━━━━━\u001b[0m \u001b[32m1.1/1.1 MB\u001b[0m \u001b[31m19.8 MB/s\u001b[0m eta \u001b[36m0:00:00\u001b[0m\n",
            "\u001b[?25hRequirement already satisfied: sniffio in /usr/local/lib/python3.10/dist-packages (from httpx==0.13.3->googletrans==4.0.0-rc1) (1.3.0)\n",
            "Collecting chardet==3.* (from httpx==0.13.3->googletrans==4.0.0-rc1)\n",
            "  Downloading chardet-3.0.4-py2.py3-none-any.whl (133 kB)\n",
            "\u001b[2K     \u001b[90m━━━━━━━━━━━━━━━━━━━━━━━━━━━━━━━━━━━━━━━━\u001b[0m \u001b[32m133.4/133.4 kB\u001b[0m \u001b[31m13.4 MB/s\u001b[0m eta \u001b[36m0:00:00\u001b[0m\n",
            "\u001b[?25hCollecting idna==2.* (from httpx==0.13.3->googletrans==4.0.0-rc1)\n",
            "  Downloading idna-2.10-py2.py3-none-any.whl (58 kB)\n",
            "\u001b[2K     \u001b[90m━━━━━━━━━━━━━━━━━━━━━━━━━━━━━━━━━━━━━━━━\u001b[0m \u001b[32m58.8/58.8 kB\u001b[0m \u001b[31m6.8 MB/s\u001b[0m eta \u001b[36m0:00:00\u001b[0m\n",
            "\u001b[?25hCollecting rfc3986<2,>=1.3 (from httpx==0.13.3->googletrans==4.0.0-rc1)\n",
            "  Downloading rfc3986-1.5.0-py2.py3-none-any.whl (31 kB)\n",
            "Collecting httpcore==0.9.* (from httpx==0.13.3->googletrans==4.0.0-rc1)\n",
            "  Downloading httpcore-0.9.1-py3-none-any.whl (42 kB)\n",
            "\u001b[2K     \u001b[90m━━━━━━━━━━━━━━━━━━━━━━━━━━━━━━━━━━━━━━━━\u001b[0m \u001b[32m42.6/42.6 kB\u001b[0m \u001b[31m4.5 MB/s\u001b[0m eta \u001b[36m0:00:00\u001b[0m\n",
            "\u001b[?25hCollecting h11<0.10,>=0.8 (from httpcore==0.9.*->httpx==0.13.3->googletrans==4.0.0-rc1)\n",
            "  Downloading h11-0.9.0-py2.py3-none-any.whl (53 kB)\n",
            "\u001b[2K     \u001b[90m━━━━━━━━━━━━━━━━━━━━━━━━━━━━━━━━━━━━━━━━\u001b[0m \u001b[32m53.6/53.6 kB\u001b[0m \u001b[31m5.0 MB/s\u001b[0m eta \u001b[36m0:00:00\u001b[0m\n",
            "\u001b[?25hCollecting h2==3.* (from httpcore==0.9.*->httpx==0.13.3->googletrans==4.0.0-rc1)\n",
            "  Downloading h2-3.2.0-py2.py3-none-any.whl (65 kB)\n",
            "\u001b[2K     \u001b[90m━━━━━━━━━━━━━━━━━━━━━━━━━━━━━━━━━━━━━━━━\u001b[0m \u001b[32m65.0/65.0 kB\u001b[0m \u001b[31m6.3 MB/s\u001b[0m eta \u001b[36m0:00:00\u001b[0m\n",
            "\u001b[?25hCollecting hyperframe<6,>=5.2.0 (from h2==3.*->httpcore==0.9.*->httpx==0.13.3->googletrans==4.0.0-rc1)\n",
            "  Downloading hyperframe-5.2.0-py2.py3-none-any.whl (12 kB)\n",
            "Collecting hpack<4,>=3.0 (from h2==3.*->httpcore==0.9.*->httpx==0.13.3->googletrans==4.0.0-rc1)\n",
            "  Downloading hpack-3.0.0-py2.py3-none-any.whl (38 kB)\n",
            "Building wheels for collected packages: googletrans\n",
            "  Building wheel for googletrans (setup.py) ... \u001b[?25l\u001b[?25hdone\n",
            "  Created wheel for googletrans: filename=googletrans-4.0.0rc1-py3-none-any.whl size=17396 sha256=8c90463855d71f01ff2d43778d80e4ef1ba48b4b456f55b7e216b906ef39dbb0\n",
            "  Stored in directory: /root/.cache/pip/wheels/c0/59/9f/7372f0cf70160fe61b528532e1a7c8498c4becd6bcffb022de\n",
            "Successfully built googletrans\n",
            "Installing collected packages: rfc3986, hyperframe, hpack, h11, chardet, idna, hstspreload, h2, httpcore, httpx, googletrans\n",
            "  Attempting uninstall: chardet\n",
            "    Found existing installation: chardet 5.2.0\n",
            "    Uninstalling chardet-5.2.0:\n",
            "      Successfully uninstalled chardet-5.2.0\n",
            "  Attempting uninstall: idna\n",
            "    Found existing installation: idna 3.6\n",
            "    Uninstalling idna-3.6:\n",
            "      Successfully uninstalled idna-3.6\n",
            "Successfully installed chardet-3.0.4 googletrans-4.0.0rc1 h11-0.9.0 h2-3.2.0 hpack-3.0.0 hstspreload-2024.2.1 httpcore-0.9.1 httpx-0.13.3 hyperframe-5.2.0 idna-2.10 rfc3986-1.5.0\n"
          ]
        }
      ]
    },
    {
      "cell_type": "code",
      "source": [
        "import nltk\n",
        "nltk.download('punkt')\n"
      ],
      "metadata": {
        "colab": {
          "base_uri": "https://localhost:8080/"
        },
        "id": "mN1ntBzj053s",
        "outputId": "4b5ccb0f-ef84-4670-c25b-7f8de275b51b"
      },
      "execution_count": null,
      "outputs": [
        {
          "output_type": "stream",
          "name": "stderr",
          "text": [
            "[nltk_data] Downloading package punkt to /root/nltk_data...\n",
            "[nltk_data]   Unzipping tokenizers/punkt.zip.\n"
          ]
        },
        {
          "output_type": "execute_result",
          "data": {
            "text/plain": [
              "True"
            ]
          },
          "metadata": {},
          "execution_count": 9
        }
      ]
    },
    {
      "cell_type": "code",
      "source": [
        "\n",
        "import bs4 as bs\n",
        "import urllib.request\n",
        "import re\n",
        "import nltk\n",
        "import heapq\n",
        "from googletrans import Translator\n",
        "from rouge import Rouge\n",
        "\n",
        "\n",
        "\n",
        "\n",
        "# Scraping the article content\n",
        "scraped_data = urllib.request.urlopen('https://bmcnephrol.biomedcentral.com/articles/10.1186/s12882-022-02682-1')\n",
        "article = scraped_data.read()\n",
        "parsed_article = bs.BeautifulSoup(article, 'lxml')\n",
        "paragraphs = parsed_article.find_all('p')\n",
        "article_text = \"\"\n",
        "for p in paragraphs:\n",
        "    article_text += p.text\n",
        "article_text = re.sub(r'\\[[0-9]*\\]', ' ', article_text)\n",
        "article_text = re.sub(r'\\s+', ' ', article_text)\n",
        "formatted_article_text = re.sub('[^a-zA-Z]', ' ', article_text)\n",
        "formatted_article_text = re.sub(r'\\s+', ' ', formatted_article_text)\n",
        "\n",
        "# Tokenize sentences\n",
        "sentence_list = nltk.sent_tokenize(article_text)\n",
        "\n",
        "# Calculate word frequencies and sentence scores\n",
        "stopwords = nltk.corpus.stopwords.words('english')\n",
        "word_frequencies = {}\n",
        "for word in nltk.word_tokenize(formatted_article_text):\n",
        "    if word not in stopwords:\n",
        "        if word not in word_frequencies.keys():\n",
        "            word_frequencies[word] = 1\n",
        "        else:\n",
        "            word_frequencies[word] += 1\n",
        "\n",
        "maximum_frequency = max(word_frequencies.values())\n",
        "for word in word_frequencies.keys():\n",
        "    word_frequencies[word] = (word_frequencies[word] / maximum_frequency)\n",
        "\n",
        "sentence_scores = {}\n",
        "for sentence in sentence_list:\n",
        "    for word in nltk.word_tokenize(sentence.lower()):\n",
        "        if word in word_frequencies.keys():\n",
        "            if len(sentence.split(' ')) < 30:\n",
        "                if sentence not in sentence_scores.keys():\n",
        "                    sentence_scores[sentence] = word_frequencies[word]\n",
        "                else:\n",
        "                    sentence_scores[sentence] += word_frequencies[word]\n",
        "\n",
        "\n",
        "\n"
      ],
      "metadata": {
        "id": "CAS5ww-XqsQ-"
      },
      "execution_count": null,
      "outputs": []
    },
    {
      "cell_type": "code",
      "source": [
        "summary_sentences = heapq.nlargest(7, sentence_scores, key=sentence_scores.get)\n",
        "summary = ' '.join(summary_sentences)"
      ],
      "metadata": {
        "id": "BI-6jR1xwT2N"
      },
      "execution_count": null,
      "outputs": []
    },
    {
      "cell_type": "code",
      "source": [
        "translator = Translator()\n",
        "translated_summaries = {}\n",
        "\n",
        "languages = [\"te\", \"hi\", \"ta\"]  # Language codes for Telugu, Hindi, and Tamil\n",
        "\n",
        "for lang in languages:\n",
        "    translated_text = translator.translate(summary, src='en', dest=lang).text\n",
        "    translated_summaries[lang] = translated_text"
      ],
      "metadata": {
        "id": "qVewzvrEq7L0"
      },
      "execution_count": null,
      "outputs": []
    },
    {
      "cell_type": "code",
      "source": [
        "print(\"English Summary:\")\n",
        "print(\" \")\n",
        "print(summary)\n",
        "print(\" \")\n",
        "\n",
        "# Translated Summaries\n",
        "print(\"Translated Summaries:\")\n",
        "print(\" \")\n",
        "print(\"****************************************************************************************************************************************************************************************************\")\n",
        "\n",
        "print(\"Telugu Summary:\")\n",
        "print(\" \")\n",
        "print(translated_summaries[\"te\"])\n",
        "print(\" \")\n",
        "print(\" \")\n",
        "print(\"Hindi Summary:\")\n",
        "print(\" \")\n",
        "print(translated_summaries[\"hi\"])\n",
        "print(\" \")\n",
        "print(\" \")\n",
        "print(\"Tamil Summary:\")\n",
        "print(\" \")\n",
        "print(translated_summaries[\"ta\"])\n",
        "\n",
        "print(\"  \")\n",
        "\n"
      ],
      "metadata": {
        "id": "61UWJgxJw_5p",
        "colab": {
          "base_uri": "https://localhost:8080/"
        },
        "outputId": "8586e98b-a2c8-4301-c392-c6bbd2db5c51"
      },
      "execution_count": null,
      "outputs": [
        {
          "output_type": "stream",
          "name": "stdout",
          "text": [
            "English Summary:\n",
            " \n",
            "We also identified 53 kidney genes upregulated by PMV; and 254 lung genes upregulated by AKI, 9 genes of which were common to both organs. Acute kidney injury associated with COVID-19-cumulative evidence and rationale supporting against direct kidney injury (infection). Ensuing injury (“second hit”), such as ventilation injury and AKI (local tissue inflammation) can alter the expression of these two genes and change response to the infection. Sex diversity in proximal tubule and endothelial gene expression in mice with ischemic acute kidney injury. However, SARS-CoV-2 uses ACE2 to enter both kidney and lung, and is highly expressed in proximal tubule cells of the kidney . The proposed model demonstrates that with increased time after the initial injury it becomes more difficult for SARS-CoV-2 to enter the injured lung or kidney cell. There has been mechanistic studies of combined lung and kidney injury in animal models, but not related to COVID-19.\n",
            " \n",
            "Translated Summaries:\n",
            " \n",
            "****************************************************************************************************************************************************************************************************\n",
            "Telugu Summary:\n",
            " \n",
            "పిఎంవి చేత నియంత్రించబడిన 53 కిడ్నీ జన్యువులను కూడా మేము గుర్తించాము;మరియు 254 lung పిరితిత్తుల జన్యువులు AKI చేత నియంత్రించబడతాయి, వీటిలో 9 జన్యువులు రెండు అవయవాలకు సాధారణం.కోవిడ్ -19-క్యూమ్యులేటివ్ సాక్ష్యాలు మరియు ప్రత్యక్ష మూత్రపిండాల గాయం (ఇన్ఫెక్షన్) కు వ్యతిరేకంగా హేతుబద్ధతతో సంబంధం ఉన్న తీవ్రమైన మూత్రపిండాల గాయం.వెంటిలేషన్ గాయం మరియు ఎకెఐ (స్థానిక కణజాల మంట) వంటి గాయం (“రెండవ హిట్”) ఈ రెండు జన్యువుల వ్యక్తీకరణను మార్చగలదు మరియు సంక్రమణకు ప్రతిస్పందనను మార్చగలదు.ఇస్కీమిక్ తీవ్రమైన మూత్రపిండాల గాయంతో ఎలుకలలో ప్రాక్సిమల్ ట్యూబ్యూల్ మరియు ఎండోథెలియల్ జన్యు వ్యక్తీకరణలో సెక్స్ వైవిధ్యం.ఏదేమైనా, SARS-COV-2 కిడ్నీ మరియు lung పిరితిత్తుల రెండింటిలో ప్రవేశించడానికి ACE2 ను ఉపయోగిస్తుంది మరియు ఇది మూత్రపిండాల యొక్క ప్రాక్సిమల్ ట్యూబ్ కణాలలో ఎక్కువగా వ్యక్తీకరించబడుతుంది.ప్రారంభ గాయం తర్వాత పెరిగిన సమయంతో SARS-COV-2 గాయపడిన lung పిరితిత్తులు లేదా మూత్రపిండాల సెల్‌లోకి ప్రవేశించడం మరింత కష్టమవుతుందని ప్రతిపాదిత మోడల్ చూపిస్తుంది.జంతు నమూనాలలో సంయుక్త lung పిరితిత్తులు మరియు మూత్రపిండాల గాయం యొక్క యాంత్రిక అధ్యయనాలు ఉన్నాయి, కానీ COVID-19 కు సంబంధించినవి కావు.\n",
            " \n",
            " \n",
            "Hindi Summary:\n",
            " \n",
            "हमने पीएमवी द्वारा अपग्रेड किए गए 53 किडनी जीनों की भी पहचान की;और 254 फेफड़े के जीन एके द्वारा अपग्रेड किए गए, जिनमें से 9 जीन दोनों अंगों के लिए आम थे।सीओवीआईडी -19-कंजूव साक्ष्य और प्रत्यक्ष गुर्दे की चोट (संक्रमण) के खिलाफ समर्थन के साथ जुड़ा हुआ गुर्दे की चोट।आगामी चोट (\"दूसरा हिट\"), जैसे कि वेंटिलेशन चोट और AKI (स्थानीय ऊतक सूजन) इन दो जीनों की अभिव्यक्ति को बदल सकता है और संक्रमण के लिए प्रतिक्रिया बदल सकता है।इस्केमिक तीव्र गुर्दे की चोट के साथ चूहों में समीपस्थ नलिका और एंडोथेलियल जीन अभिव्यक्ति में सेक्स विविधता।हालांकि, SARS-COV-2 किडनी और फेफड़े दोनों में प्रवेश करने के लिए ACE2 का उपयोग करता है, और गुर्दे के समीपस्थ नलिका कोशिकाओं में अत्यधिक व्यक्त किया जाता है।प्रस्तावित मॉडल दर्शाता है कि प्रारंभिक चोट के बाद बढ़े हुए समय के साथ घायल फेफड़े या किडनी सेल में प्रवेश करना SARS-COV-2 के लिए अधिक कठिन हो जाता है।पशु मॉडल में संयुक्त फेफड़े और गुर्दे की चोट के यंत्रवत अध्ययन किए गए हैं, लेकिन कोविड -19 से संबंधित नहीं हैं।\n",
            " \n",
            " \n",
            "Tamil Summary:\n",
            " \n",
            "பி.எம்.வி.யால் கட்டுப்படுத்தப்பட்ட 53 சிறுநீரக மரபணுக்களையும் நாங்கள் அடையாளம் கண்டோம்;மற்றும் 254 நுரையீரல் மரபணுக்கள் AKI ஆல் கட்டுப்படுத்தப்படுகின்றன, அவற்றில் 9 மரபணுக்கள் இரு உறுப்புகளுக்கும் பொதுவானவை.கோவிட் -19-உச்சி சான்றுகள் மற்றும் நேரடி சிறுநீரக காயம் (தொற்று) எதிராக பகுத்தறிவு ஆதரவு ஆகியவற்றுடன் தொடர்புடைய கடுமையான சிறுநீரக காயம்.காற்றோட்டம் காயம் மற்றும் ஏ.கே.ஐ (உள்ளூர் திசு அழற்சி) போன்ற காயம் (“இரண்டாவது வெற்றி”) இந்த இரண்டு மரபணுக்களின் வெளிப்பாட்டை மாற்றி, நோய்த்தொற்றுக்கு பதிலை மாற்றும்.இஸ்கிமிக் கடுமையான சிறுநீரக காயம் கொண்ட எலிகளில் ப்ராக்ஸிமல் டூபூல் மற்றும் எண்டோடெலியல் மரபணு வெளிப்பாடு ஆகியவற்றில் பாலியல் பன்முகத்தன்மை.இருப்பினும், SARS-COV-2 சிறுநீரகம் மற்றும் நுரையீரல் இரண்டிலும் நுழைய ACE2 ஐப் பயன்படுத்துகிறது, மேலும் இது சிறுநீரகத்தின் அருகிலுள்ள குழாய் கலங்களில் அதிகம் வெளிப்படுத்தப்படுகிறது.ஆரம்ப காயத்திற்குப் பிறகு அதிகரித்த நேரத்துடன், காயமடைந்த நுரையீரல் அல்லது சிறுநீரக கலத்திற்குள் நுழைவது SARS-COV-2 க்கு மிகவும் கடினமாகிறது என்பதை முன்மொழியப்பட்ட மாதிரி நிரூபிக்கிறது.விலங்கு மாதிரிகளில் ஒருங்கிணைந்த நுரையீரல் மற்றும் சிறுநீரக காயம் குறித்த இயந்திர ஆய்வுகள் உள்ளன, ஆனால் கோவ் -19 உடன் தொடர்புடையவை அல்ல.\n",
            "  \n"
          ]
        }
      ]
    },
    {
      "cell_type": "markdown",
      "source": [],
      "metadata": {
        "id": "eZVZkqzupsCh"
      }
    }
  ]
}